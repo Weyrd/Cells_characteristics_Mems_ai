{
 "cells": [
  {
   "cell_type": "code",
   "execution_count": 6,
   "metadata": {},
   "outputs": [
    {
     "name": "stdout",
     "output_type": "stream",
     "text": [
      "Error: Unable to load the image from the provided path.\n"
     ]
    }
   ],
   "source": [
    "import imgaug.augmenters as iaa\n",
    "import imageio\n",
    "import numpy as np\n",
    "import cv2\n",
    "\n",
    "# Function to apply data augmentation to a TIFF image\n",
    "def augment_tiff_image(image_path, output_path):\n",
    "    # Read the TIFF image using cv2\n",
    "    image = cv2.imread(image_path)\n",
    "\n",
    "    # Check if the image was successfully loaded\n",
    "    if image is None:\n",
    "        raise ValueError(\"Error: Unable to load the image from the provided path.\")\n",
    "\n",
    "    # Resize the image to a smaller resolution for faster processing\n",
    "    target_size = (int(image.shape[1] * 0.5), int(image.shape[0] * 0.5))\n",
    "    image = cv2.resize(image, target_size)\n",
    "\n",
    "    # Define the augmentation pipeline\n",
    "    augmentation = iaa.Sequential([\n",
    "        iaa.Fliplr(0.5),  # Flip the image horizontally with a probability of 0.5\n",
    "        iaa.Affine(\n",
    "            scale=(0.8, 1.2),  # Randomly scale the image by a factor between 0.8 and 1.2\n",
    "            translate_percent=(-0.1, 0.1),  # Randomly translate the image by -10% to 10% of its size\n",
    "            rotate=(-45, 45)  # Randomly rotate the image by -45 to 45 degrees\n",
    "        ),\n",
    "        iaa.GaussianBlur(sigma=(0, 1.0)),  # Apply random Gaussian blur with sigma between 0 and 1.0\n",
    "        iaa.AdditiveGaussianNoise(scale=(0, 0.1 * 255))  # Add random Gaussian noise\n",
    "    ])\n",
    "\n",
    "    # Apply augmentation\n",
    "    augmented_image = augmentation.augment_image(image)\n",
    "\n",
    "    # Save the augmented image to TIFF format\n",
    "    cv2.imwrite(output_path, augmented_image)\n",
    "\n",
    "# Example usage:\n",
    "# Load an example TIFF image\n",
    "image_path = \"C:/Users/Weyrd/Documents/Github/Cells_characteristics_Mems_ai/data_/Snail/Snail_sample_13/before comp 14.82μm.tif\"\n",
    "output_path = r\"augmented_image.tif\"\n",
    "\n",
    "try:\n",
    "    # Apply augmentation and save the augmented image\n",
    "    augment_tiff_image(image_path, output_path)\n",
    "\n",
    "    # Display the original and augmented images side by side (optional)\n",
    "    original_image = cv2.imread(image_path)\n",
    "    augmented_image = cv2.imread(output_path)\n",
    "\n",
    "    combined_image = np.hstack((original_image, augmented_image))\n",
    "    cv2.imshow(\"Original vs. Augmented\", combined_image)\n",
    "    cv2.waitKey(0)\n",
    "    cv2.destroyAllWindows()\n",
    "\n",
    "except ValueError as e:\n",
    "    print(str(e))\n"
   ]
  },
  {
   "cell_type": "code",
   "execution_count": null,
   "metadata": {},
   "outputs": [],
   "source": []
  }
 ],
 "metadata": {
  "kernelspec": {
   "display_name": "Python 3",
   "language": "python",
   "name": "python3"
  },
  "language_info": {
   "codemirror_mode": {
    "name": "ipython",
    "version": 3
   },
   "file_extension": ".py",
   "mimetype": "text/x-python",
   "name": "python",
   "nbconvert_exporter": "python",
   "pygments_lexer": "ipython3",
   "version": "3.9.13"
  },
  "orig_nbformat": 4
 },
 "nbformat": 4,
 "nbformat_minor": 2
}
