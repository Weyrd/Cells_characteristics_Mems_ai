{
 "cells": [
  {
   "cell_type": "code",
   "execution_count": null,
   "metadata": {},
   "outputs": [],
   "source": [
    "# import everything for a linear regression model\n",
    "import pandas as pd\n",
    "import numpy as np\n",
    "import matplotlib.pyplot as plt\n",
    "import seaborn as sns\n"
   ]
  },
  {
   "cell_type": "code",
   "execution_count": null,
   "metadata": {},
   "outputs": [],
   "source": [
    "# open data frame from csv file (data_\\data.csv)\n",
    "df = pd.read_csv('data_\\data.csv')\n"
   ]
  },
  {
   "cell_type": "code",
   "execution_count": null,
   "metadata": {},
   "outputs": [],
   "source": [
    "# df = pd.DataFrame(columns=[\"Time\", \"Res_Freq\", \"Amplitude\", \"Phase\", \"Sample_number\", \"Peak\", \"Before_compression\", \"After_compression\", \"Compression_ratio\", \"Compression_time\"])\n",
    "# create a model for linear regression on the data. you need to use the following columns:\n",
    "# \"Res_Freq\", \"Amplitude\", \"compression_ratio\"\n",
    "model = LinearRegression()\n",
    "model.fit(df[[\"Res_Freq\", \"Amplitude\"]], df[\"Compression_ratio\"])\n",
    "\n",
    "# train the model on the data and print the score\n",
    "print(model.score(df[[\"Res_Freq\", \"Amplitude\"]], df[\"Compression_ratio\"]))\n",
    "# print the coefficients of the model\n",
    "print(model.coef_)\n",
    "\n",
    "\n",
    "\n"
   ]
  }
 ],
 "metadata": {
  "language_info": {
   "name": "python"
  },
  "orig_nbformat": 4
 },
 "nbformat": 4,
 "nbformat_minor": 2
}
